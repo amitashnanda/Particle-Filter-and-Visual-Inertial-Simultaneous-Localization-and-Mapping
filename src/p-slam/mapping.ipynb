{
 "cells": [
  {
   "cell_type": "code",
   "execution_count": 1,
   "metadata": {},
   "outputs": [],
   "source": [
    "import pandas as pd\n",
    "import numpy as np\n",
    "import time\n",
    "import matplotlib.pyplot as plt\n",
    "import time\n",
    "from pr2_utils import read_data_from_csv\n",
    "from pr2_utils import bresenham2D\n"
   ]
  },
  {
   "cell_type": "code",
   "execution_count": 2,
   "metadata": {},
   "outputs": [],
   "source": [
    "timestamp_lidar, data_lidar = read_data_from_csv('data/sensor_data/lidar.csv')"
   ]
  },
  {
   "cell_type": "code",
   "execution_count": 4,
   "metadata": {},
   "outputs": [
    {
     "data": {
      "text/plain": [
       "array([[30.3900013 , 30.64800072, 32.20600128, ...,  9.85100079,\n",
       "         9.74100018,  9.59300041],\n",
       "       [30.43100166, 30.64500237, 32.21300125, ...,  9.85400009,\n",
       "         9.72700024,  9.59700012],\n",
       "       [30.47300148, 30.66000175, 32.2460022 , ...,  9.82500076,\n",
       "         9.72200012,  9.58100033],\n",
       "       ...,\n",
       "       [36.70000076, 36.81100082, 36.94800186, ...,  8.3210001 ,\n",
       "         8.42400074,  0.        ],\n",
       "       [36.68600082, 36.83000183, 36.95600128, ...,  8.39100075,\n",
       "         8.36000061,  8.70600033],\n",
       "       [36.64800262, 32.08100128, 36.94800186, ...,  8.29400063,\n",
       "         0.        ,  8.44500065]])"
      ]
     },
     "execution_count": 4,
     "metadata": {},
     "output_type": "execute_result"
    }
   ],
   "source": [
    "data_lidar"
   ]
  },
  {
   "cell_type": "code",
   "execution_count": null,
   "metadata": {},
   "outputs": [],
   "source": []
  }
 ],
 "metadata": {
  "interpreter": {
   "hash": "916dbcbb3f70747c44a77c7bcd40155683ae19c65e1c03b4aa3499c5328201f1"
  },
  "kernelspec": {
   "display_name": "Python 3.8.10 64-bit",
   "language": "python",
   "name": "python3"
  },
  "language_info": {
   "codemirror_mode": {
    "name": "ipython",
    "version": 3
   },
   "file_extension": ".py",
   "mimetype": "text/x-python",
   "name": "python",
   "nbconvert_exporter": "python",
   "pygments_lexer": "ipython3",
   "version": "3.8.10"
  },
  "orig_nbformat": 4
 },
 "nbformat": 4,
 "nbformat_minor": 2
}
